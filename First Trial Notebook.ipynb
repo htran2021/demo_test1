{
    "cells": [
        {
            "cell_type": "markdown",
            "metadata": {},
            "source": "#This is the first trial project about a spread of covid cases"
        },
        {
            "cell_type": "code",
            "execution_count": 6,
            "metadata": {},
            "outputs": [
                {
                    "data": {
                        "text/html": "<div>\n<style scoped>\n    .dataframe tbody tr th:only-of-type {\n        vertical-align: middle;\n    }\n\n    .dataframe tbody tr th {\n        vertical-align: top;\n    }\n\n    .dataframe thead th {\n        text-align: right;\n    }\n</style>\n<table border=\"1\" class=\"dataframe\">\n  <thead>\n    <tr style=\"text-align: right;\">\n      <th></th>\n      <th>date</th>\n      <th>World</th>\n      <th>Afghanistan</th>\n      <th>Africa</th>\n      <th>Albania</th>\n      <th>Algeria</th>\n      <th>Andorra</th>\n      <th>Angola</th>\n      <th>Antigua and Barbuda</th>\n      <th>Argentina</th>\n      <th>...</th>\n      <th>Upper middle income</th>\n      <th>Uruguay</th>\n      <th>Uzbekistan</th>\n      <th>Vanuatu</th>\n      <th>Vatican</th>\n      <th>Venezuela</th>\n      <th>Vietnam</th>\n      <th>Yemen</th>\n      <th>Zambia</th>\n      <th>Zimbabwe</th>\n    </tr>\n  </thead>\n  <tbody>\n    <tr>\n      <th>0</th>\n      <td>2020-01-22</td>\n      <td>0.0</td>\n      <td>NaN</td>\n      <td>NaN</td>\n      <td>NaN</td>\n      <td>NaN</td>\n      <td>NaN</td>\n      <td>NaN</td>\n      <td>NaN</td>\n      <td>NaN</td>\n      <td>...</td>\n      <td>0.0</td>\n      <td>NaN</td>\n      <td>NaN</td>\n      <td>NaN</td>\n      <td>NaN</td>\n      <td>NaN</td>\n      <td>NaN</td>\n      <td>NaN</td>\n      <td>NaN</td>\n      <td>NaN</td>\n    </tr>\n    <tr>\n      <th>1</th>\n      <td>2020-01-23</td>\n      <td>98.0</td>\n      <td>NaN</td>\n      <td>NaN</td>\n      <td>NaN</td>\n      <td>NaN</td>\n      <td>NaN</td>\n      <td>NaN</td>\n      <td>NaN</td>\n      <td>NaN</td>\n      <td>...</td>\n      <td>93.0</td>\n      <td>NaN</td>\n      <td>NaN</td>\n      <td>NaN</td>\n      <td>NaN</td>\n      <td>NaN</td>\n      <td>2.0</td>\n      <td>NaN</td>\n      <td>NaN</td>\n      <td>NaN</td>\n    </tr>\n    <tr>\n      <th>2</th>\n      <td>2020-01-24</td>\n      <td>286.0</td>\n      <td>NaN</td>\n      <td>NaN</td>\n      <td>NaN</td>\n      <td>NaN</td>\n      <td>NaN</td>\n      <td>NaN</td>\n      <td>NaN</td>\n      <td>NaN</td>\n      <td>...</td>\n      <td>278.0</td>\n      <td>NaN</td>\n      <td>NaN</td>\n      <td>NaN</td>\n      <td>NaN</td>\n      <td>NaN</td>\n      <td>0.0</td>\n      <td>NaN</td>\n      <td>NaN</td>\n      <td>NaN</td>\n    </tr>\n    <tr>\n      <th>3</th>\n      <td>2020-01-25</td>\n      <td>493.0</td>\n      <td>NaN</td>\n      <td>NaN</td>\n      <td>NaN</td>\n      <td>NaN</td>\n      <td>NaN</td>\n      <td>NaN</td>\n      <td>NaN</td>\n      <td>NaN</td>\n      <td>...</td>\n      <td>488.0</td>\n      <td>NaN</td>\n      <td>NaN</td>\n      <td>NaN</td>\n      <td>NaN</td>\n      <td>NaN</td>\n      <td>0.0</td>\n      <td>NaN</td>\n      <td>NaN</td>\n      <td>NaN</td>\n    </tr>\n    <tr>\n      <th>4</th>\n      <td>2020-01-26</td>\n      <td>684.0</td>\n      <td>NaN</td>\n      <td>NaN</td>\n      <td>NaN</td>\n      <td>NaN</td>\n      <td>NaN</td>\n      <td>NaN</td>\n      <td>NaN</td>\n      <td>NaN</td>\n      <td>...</td>\n      <td>668.0</td>\n      <td>NaN</td>\n      <td>NaN</td>\n      <td>NaN</td>\n      <td>NaN</td>\n      <td>NaN</td>\n      <td>0.0</td>\n      <td>NaN</td>\n      <td>NaN</td>\n      <td>NaN</td>\n    </tr>\n  </tbody>\n</table>\n<p>5 rows \u00d7 211 columns</p>\n</div>",
                        "text/plain": "         date  World  Afghanistan  Africa  Albania  Algeria  Andorra  Angola  \\\n0  2020-01-22    0.0          NaN     NaN      NaN      NaN      NaN     NaN   \n1  2020-01-23   98.0          NaN     NaN      NaN      NaN      NaN     NaN   \n2  2020-01-24  286.0          NaN     NaN      NaN      NaN      NaN     NaN   \n3  2020-01-25  493.0          NaN     NaN      NaN      NaN      NaN     NaN   \n4  2020-01-26  684.0          NaN     NaN      NaN      NaN      NaN     NaN   \n\n   Antigua and Barbuda  Argentina  ...  Upper middle income  Uruguay  \\\n0                  NaN        NaN  ...                  0.0      NaN   \n1                  NaN        NaN  ...                 93.0      NaN   \n2                  NaN        NaN  ...                278.0      NaN   \n3                  NaN        NaN  ...                488.0      NaN   \n4                  NaN        NaN  ...                668.0      NaN   \n\n   Uzbekistan  Vanuatu  Vatican  Venezuela  Vietnam  Yemen  Zambia  Zimbabwe  \n0         NaN      NaN      NaN        NaN      NaN    NaN     NaN       NaN  \n1         NaN      NaN      NaN        NaN      2.0    NaN     NaN       NaN  \n2         NaN      NaN      NaN        NaN      0.0    NaN     NaN       NaN  \n3         NaN      NaN      NaN        NaN      0.0    NaN     NaN       NaN  \n4         NaN      NaN      NaN        NaN      0.0    NaN     NaN       NaN  \n\n[5 rows x 211 columns]"
                    },
                    "execution_count": 6,
                    "metadata": {},
                    "output_type": "execute_result"
                }
            ],
            "source": "# The code was removed by Watson Studio for sharing."
        },
        {
            "cell_type": "code",
            "execution_count": null,
            "metadata": {},
            "outputs": [],
            "source": ""
        }
    ],
    "metadata": {
        "kernelspec": {
            "display_name": "Python 3.8",
            "language": "python",
            "name": "python3"
        },
        "language_info": {
            "codemirror_mode": {
                "name": "ipython",
                "version": 3
            },
            "file_extension": ".py",
            "mimetype": "text/x-python",
            "name": "python",
            "nbconvert_exporter": "python",
            "pygments_lexer": "ipython3",
            "version": "3.8.12"
        }
    },
    "nbformat": 4,
    "nbformat_minor": 1
}