{
    "cells": [
        {
            "metadata": {
                "collapsed": true
            },
            "cell_type": "markdown",
            "source": "# Watson IBM Studio Test\n***\n**Hung Tran**\n\n***This is my first text.***\n> This test is a closed test. Please do not open the book.\n\n***\n\n## Quickstart Guide\n\nHere's a summary of the smartest way to get your smart contract up and running with Chainlink-secured API data, starting with our [Make an API GET Request Remix gist.](https://remix.ethereum.org/#url=https://docs.chain.link/samples/APIRequests/APIConsumer.sol&optimize=false&runs=200&evmVersion=null&version=soljson-v0.8.7+commit.e28d00a7.js)\n\n**1) Choose your return type:**\n\n- Define your return data global variable according to the data you\u2019re requesting, string, uint, etc. \u201cvolume\u201d in the example code.\n- Update fulfill function assignment.\n\n**2) Pick up oracle:**\n- Using an oracle listing service such as [market.link](https://market.link)\n- Update request struct to include your signature. \n\n<div class=\"alert alert-block alert-info\">\n<b>Note: </b>The below picture is the screenshot from Chainlink network.  \n</div>\n\n<img src=\"https://blog.chain.link/wp-content/webpc-passthru.php?src=https://2eguue18ymh52albtja2v96c-wpengine.netdna-ssl.com/wp-content/uploads/2020/08/pasted-image-0.png&nocache=1\">\n<br>\n\n| Oracle Name | Ecosystem |\n| --- | --- |\n| Chainlink | Ethereum |\n| Subquery | Polkadot |\n"
        },
        {
            "metadata": {},
            "cell_type": "code",
            "source": "# Question 2/ Part 1,2,3,4: \na = \"Hello Everyone!! Welcome to the first Couresa project. Here are my friends\"\nb = \"hung, kate, peter, nike.\"\nc = 30\nprint(a + \": \" + b[0:4].upper()+b[4:11].lower()+b[11:17].title()+b[17:24])\nprint(\"The total score for this project is \",str(c))\nprint(\"The total score for this project is \",c)\nprint(\"Test if the score is less than or equal 30: \",c<=30)\na_replace = a.replace('Here are my friends','Here is a list of my friends: ')\nprint(a_replace)",
            "execution_count": 23,
            "outputs": [
                {
                    "output_type": "stream",
                    "text": "Hello Everyone!! Welcome to the first Couresa project. Here are my friends: HUNG, kate, Peter, nike.\nThe total score for this project is  30\nThe total score for this project is  30\nTest if the score is less than or equal 30:  True\nHello Everyone!! Welcome to the first Couresa project. Here is a list of my friends: \n",
                    "name": "stdout"
                }
            ]
        },
        {
            "metadata": {
                "scrolled": true
            },
            "cell_type": "code",
            "source": "# Question 3.1\ncustomers = ['wakefern','targett','walmart']\ncustomers[1] = 'target'\nprint(customers)\n# Question 3.2\nprint(customers[0].title(),customers[1].upper(),customers[-1].lower())\n# Question 3.3\nfor customer in customers:\n    print(customer)\n# Question 3.4\nfor customer_first in customers:\n    print(customer_first[0])\n# Question 3.5\ncustomers.append(\"Aldi\")\ncustomers.append(\"Branded\")\ncustomers.insert(1, 'Costco')\ncustomers.insert(2,'Zeel')\nfor index, a in enumerate(customers):\n    b = str(index+1)\n    print(b+\". \"\"This is the customer:\",a.title())\n# Question 3.6\ncustomers.sort()\nprint(customers)\ncustomers.reverse()\nprint(customers)\n# Question 3.7 - Reivew\nfor customer in sorted(customers):\n    print(customer)\n\nfor customer in sorted(customers,reverse=True):\n    print(customer)\n# Question 3.8\nc = len(customers)\nprint(\"There are\",c,\"customers in the list\")\nprint(\"There are\",len(customers),\"customers in the list\")\n# Question 3.9\ncustomerwithz = customers.pop(3)\ncustomers.remove('walmart')\ndel customers[0]\nprint(customers)\n# Question 3.10: Review\nprint(customers.index('target'))\n# Question 3.11: Review. Use find for sentence. \nprint('Branded' in customers)",
            "execution_count": 112,
            "outputs": [
                {
                    "output_type": "stream",
                    "text": "['wakefern', 'target', 'walmart']\nWakefern TARGET walmart\nwakefern\ntarget\nwalmart\nw\nt\nw\n1. This is the customer: Wakefern\n2. This is the customer: Costco\n3. This is the customer: Zeel\n4. This is the customer: Target\n5. This is the customer: Walmart\n6. This is the customer: Aldi\n7. This is the customer: Branded\n['Aldi', 'Branded', 'Costco', 'Zeel', 'target', 'wakefern', 'walmart']\n['walmart', 'wakefern', 'target', 'Zeel', 'Costco', 'Branded', 'Aldi']\nAldi\nBranded\nCostco\nZeel\ntarget\nwakefern\nwalmart\nwalmart\nwakefern\ntarget\nZeel\nCostco\nBranded\nAldi\nThere are 7 customers in the list\nThere are 7 customers in the list\n['target', 'Costco', 'Branded', 'Aldi']\n0\nTrue\n",
                    "name": "stdout"
                }
            ]
        },
        {
            "metadata": {},
            "cell_type": "code",
            "source": "# Question 4.12:\nk = list(range(10,101,10))\nprint(k)\nprint(min(k),max(k),sum(k))\n# Question 4.13\nfor t in k:\n    print(str(t**2))\nfor a in range(10,101,10):\n    k=a**2\n    print(k)\nsquare = [k**2 for k in range(10,101,10)]\nprint(square)\n# Question 4.14\nrangelist = max(square) - min(square)\nprint(rangelist,min(square),max(square),sum(square))\n",
            "execution_count": 131,
            "outputs": [
                {
                    "output_type": "stream",
                    "text": "[10, 20, 30, 40, 50, 60, 70, 80, 90, 100]\n10 100 550\n100\n400\n900\n1600\n2500\n3600\n4900\n6400\n8100\n10000\n100\n400\n900\n1600\n2500\n3600\n4900\n6400\n8100\n10000\n[100, 400, 900, 1600, 2500, 3600, 4900, 6400, 8100, 10000]\n9900 100 10000 38500\n",
                    "name": "stdout"
                }
            ]
        }
    ],
    "metadata": {
        "kernelspec": {
            "name": "python3",
            "display_name": "Python 3.8",
            "language": "python"
        },
        "language_info": {
            "name": "python",
            "version": "3.8.12",
            "mimetype": "text/x-python",
            "codemirror_mode": {
                "name": "ipython",
                "version": 3
            },
            "pygments_lexer": "ipython3",
            "nbconvert_exporter": "python",
            "file_extension": ".py"
        }
    },
    "nbformat": 4,
    "nbformat_minor": 1
}